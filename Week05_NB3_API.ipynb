{
  "cells": [
    {
      "cell_type": "markdown",
      "id": "843c4648-b335-464e-8c18-9e4dd15c0686",
      "metadata": {},
      "source": "# Getting data from the web: API"
    },
    {
      "cell_type": "markdown",
      "id": "07f6f4ac",
      "metadata": {},
      "source": "## Spotify"
    },
    {
      "cell_type": "markdown",
      "id": "ea9f0b73",
      "metadata": {},
      "source": "Go to spotify and we're going to do similar steps to get our credentials\n\nhttps://developer.spotify.com/dashboard/login"
    },
    {
      "cell_type": "code",
      "execution_count": null,
      "id": "5afafca3",
      "metadata": {
        "trusted": true
      },
      "outputs": [],
      "source": "import spotipy\nfrom spotipy.oauth2 import SpotifyClientCredentials"
    },
    {
      "cell_type": "code",
      "execution_count": null,
      "id": "0cb9c259",
      "metadata": {
        "trusted": true
      },
      "outputs": [],
      "source": "import spotify_key"
    },
    {
      "cell_type": "code",
      "execution_count": null,
      "id": "d7a170b7",
      "metadata": {
        "trusted": true
      },
      "outputs": [],
      "source": "# This is BAD if you store it in GitHub\n# \n# CLIENT_ID='69ed62cb11654ab4b'\n# CLIENT_SECRET='fffa11dee3e540'"
    },
    {
      "cell_type": "code",
      "execution_count": null,
      "id": "c69a4309",
      "metadata": {
        "trusted": true
      },
      "outputs": [],
      "source": "sp = spotipy.Spotify(auth_manager=SpotifyClientCredentials(client_id=spotify_key.CLIENT_ID,\n                                                           client_secret=spotify_key.CLIENT_SECRET))"
    },
    {
      "cell_type": "code",
      "execution_count": null,
      "id": "94dbd320",
      "metadata": {
        "trusted": true
      },
      "outputs": [],
      "source": "results = sp.search(q='Neil Young', limit=20)"
    },
    {
      "cell_type": "code",
      "execution_count": null,
      "id": "2a7e5d52",
      "metadata": {
        "scrolled": true,
        "tags": [],
        "trusted": true
      },
      "outputs": [],
      "source": "results"
    },
    {
      "cell_type": "markdown",
      "id": "64fdb3e5",
      "metadata": {},
      "source": "Sometimes it's like trying to drink water from a firehose."
    },
    {
      "cell_type": "markdown",
      "id": "73f020c3",
      "metadata": {},
      "source": "### How do I know how to do the above code in the first place?\n\nIt can be VERY important and helpful to consult the documentation.\n\nCheck out: https://developer.spotify.com/documentation/web-api/\n* Notice that they give descriptions of the response codes\n* Look for Guides, References, Documentation, Libraries, etc.\n\nGuidance as to Web API Libraries: https://developer.spotify.com/documentation/web-api/libraries/\n* Find Spotipy\n\nAnd there is documentation in turn for libraries like spotipy: https://spotipy.readthedocs.io/\n* Installation\n* Examples\n* Reference\n* Link to source code\n  * GitHub repos can themselves contain useful documentation on the main README\n  * ... not that we want to overburden ourselves with Python, but note that you can even peruse source code if you want\n    * https://github.com/spotipy-dev/spotipy/blob/2.22.1/spotipy/client.py\n    * note the use of requests and json (and something called \"urllib3\" -> requests is built on urllib3 and intended to make HTTP requests more painless)"
    },
    {
      "cell_type": "code",
      "execution_count": null,
      "id": "69293f28",
      "metadata": {
        "trusted": true
      },
      "outputs": [],
      "source": "# Let's put our Python dictionary skills to good use\n\nresults.keys()"
    },
    {
      "cell_type": "code",
      "execution_count": null,
      "id": "0198ad80",
      "metadata": {
        "trusted": true
      },
      "outputs": [],
      "source": "results['tracks'].keys()"
    },
    {
      "cell_type": "code",
      "execution_count": null,
      "id": "92a56b30",
      "metadata": {
        "trusted": true
      },
      "outputs": [],
      "source": "results['tracks']['items'][0].keys()"
    },
    {
      "cell_type": "code",
      "execution_count": null,
      "id": "2e113504",
      "metadata": {
        "trusted": true
      },
      "outputs": [],
      "source": "print(results['tracks']['items'][0]['album']['name'])\nprint(results['tracks']['items'][0]['artists'])\nprint(results['tracks']['items'][0]['popularity'])"
    },
    {
      "cell_type": "code",
      "execution_count": null,
      "id": "d9b84430",
      "metadata": {
        "trusted": true
      },
      "outputs": [],
      "source": "results = sp.search(q='Neil Young', limit=20)\nfor idx, track in enumerate(results['tracks']['items']):\n    print(idx, track['name'])"
    },
    {
      "cell_type": "code",
      "execution_count": null,
      "id": "a87cdebd",
      "metadata": {
        "trusted": true
      },
      "outputs": [],
      "source": "results = sp.search(q='Neil Young', limit=20)\nfor idx, track in enumerate(results['tracks']['items']):\n    print(idx, track['name'], ' : ', track['artists'][0]['name'])"
    },
    {
      "cell_type": "markdown",
      "id": "995452ae",
      "metadata": {},
      "source": "As long as you can traverse this data structure, then you can collect information from every item that is returned into something a little more manageable.... like a Pandas dataframe."
    },
    {
      "cell_type": "markdown",
      "id": "22f781c5",
      "metadata": {},
      "source": "### Example: Simple data on songs from the 70's\n* Search for songs from the 70's\n* Make lists of info\n* Make a Pandas dataframe with one column for each list you've collected"
    },
    {
      "cell_type": "code",
      "execution_count": null,
      "id": "f4a9e6b2",
      "metadata": {
        "trusted": true
      },
      "outputs": [],
      "source": "artist_name = []\ntrack_name = []\npopularity = []\ntrack_id = []\n\n# Search for 50 songs from 1970\ntrack_results = sp.search(q='year:1970', type='track', limit=50)\n\n# Use a for loop to iterate over the track items\n# and add the artist name, track name, popularity score, and track ID to lists\nfor i in track_results['tracks']['items']:\n    artist_name.append(i['artists'][0]['name'])\n    track_name.append(i['name'])\n    track_id.append(i['id'])\n    popularity.append(i['popularity'])"
    },
    {
      "cell_type": "markdown",
      "id": "b12b5960",
      "metadata": {},
      "source": "Import pandas and convert those lists into columns of a dataframe"
    },
    {
      "cell_type": "code",
      "execution_count": null,
      "id": "d73f6eab",
      "metadata": {
        "trusted": true
      },
      "outputs": [],
      "source": "import pandas as pd"
    },
    {
      "cell_type": "code",
      "execution_count": null,
      "id": "6f8471e9",
      "metadata": {
        "trusted": true
      },
      "outputs": [],
      "source": "track_dataframe = pd.DataFrame({'artist_name' : artist_name,\n                                'track_name' : track_name,\n                                'track_id' : track_id,\n                                'popularity' : popularity})"
    },
    {
      "cell_type": "code",
      "execution_count": null,
      "id": "b2222363",
      "metadata": {
        "trusted": true
      },
      "outputs": [],
      "source": "print(track_dataframe.shape)\ntrack_dataframe.head()"
    },
    {
      "cell_type": "markdown",
      "id": "21621a16",
      "metadata": {},
      "source": "Use the dataframe now as an easier structure to navigate and analyze."
    },
    {
      "cell_type": "code",
      "execution_count": null,
      "id": "c0a679a8",
      "metadata": {
        "trusted": true
      },
      "outputs": [],
      "source": "track_dataframe.sort_values(by='popularity')"
    },
    {
      "cell_type": "code",
      "execution_count": null,
      "id": "35aba530",
      "metadata": {
        "trusted": true
      },
      "outputs": [],
      "source": "track_dataframe.sort_values(by='popularity')[-10:].plot.barh(x='artist_name',y='popularity')"
    },
    {
      "cell_type": "markdown",
      "id": "9119d1c2",
      "metadata": {},
      "source": "## You now know some spotipy specifics\nTry looking through spotipy's [example code](https://github.com/plamere/spotipy/tree/2.19.0/examples) in their GitHub repository and try one here that interests you"
    },
    {
      "cell_type": "code",
      "execution_count": null,
      "id": "968e2565",
      "metadata": {
        "trusted": true
      },
      "outputs": [],
      "source": ""
    },
    {
      "cell_type": "markdown",
      "id": "52f2aae1-ffdd-49a3-9732-2b8d68d1f390",
      "metadata": {},
      "source": "## NYTimes API\n"
    },
    {
      "cell_type": "markdown",
      "id": "9cd29418",
      "metadata": {},
      "source": "Setting things up for using the API:\n* Create a developer account and a new app by following the instructions here:  https://developer.nytimes.com/get-started"
    },
    {
      "cell_type": "markdown",
      "id": "1dd6627f",
      "metadata": {},
      "source": "Setting up for authentication on the developer page (developer.nytimes.com)\n* We're going to create a new APP with access to Article Search and Books\n* Copy the key into a file and assign it as a string to a variable named 'MY_KEY'\n* Use that key here by importing the module (your *.py file) which contains simply the variable you've defined to store your key"
    },
    {
      "cell_type": "code",
      "execution_count": null,
      "id": "0c18ba21-2f90-4647-ad89-d6d4e2c68bde",
      "metadata": {
        "trusted": true
      },
      "outputs": [],
      "source": "import requests"
    },
    {
      "cell_type": "code",
      "execution_count": null,
      "id": "07ecc562-b89e-43a7-98a8-2fef29d9957d",
      "metadata": {
        "trusted": true
      },
      "outputs": [],
      "source": "import nytimes_key"
    },
    {
      "cell_type": "markdown",
      "id": "510d4722-2de4-427c-9ffb-1421262499e4",
      "metadata": {},
      "source": "How do you know how to use the API?\n* Consult the documentation\n  * Article search -- see https://developer.nytimes.com/docs/articlesearch-product/1/overview\n    * `/articlesearch.json?q={query}&fq={filter}`\n    * Example:\n      * `https://api.nytimes.com/svc/search/v2/articlesearch.json?q=election&api-key=yourkey`\n  * Books API -- see https://developer.nytimes.com/docs/books-product/1/overview\n    * `/lists/2019-01-20/hardcover-fiction.json`\n    * Example:\n      * `https://api.nytimes.com/svc/books/v3/lists/current/hardcover-fiction.json?api-key=yourkey`\n    * \"The book reviews service lets you get NYT book review by author, ISBN, or title.\"\n      * `https://api.nytimes.com/svc/books/v3/reviews.json?author=Stephen+King&api-key=yourkey`\n"
    },
    {
      "cell_type": "markdown",
      "id": "8b05bc79-0371-4a23-8e1a-812d027b8301",
      "metadata": {},
      "source": "Let's try the Books first:"
    },
    {
      "cell_type": "code",
      "execution_count": null,
      "id": "540252ea-eac3-42fe-83a6-9947183f7920",
      "metadata": {
        "trusted": true
      },
      "outputs": [],
      "source": "# Note how we include your key without explicitly typing it into this file\n\nurl = 'https://api.nytimes.com/svc/books/v3/lists/current/hardcover-fiction.json?api-key=' + nytimes_key.MY_KEY"
    },
    {
      "cell_type": "code",
      "execution_count": null,
      "id": "f2c881f7-e557-455b-9ce7-eae32fb53900",
      "metadata": {
        "trusted": true
      },
      "outputs": [],
      "source": "print(url)"
    },
    {
      "cell_type": "markdown",
      "id": "799c4404-1e02-49db-a87b-80c2f12cc970",
      "metadata": {},
      "source": "Use \"requests\" to query the API endpoint"
    },
    {
      "cell_type": "code",
      "execution_count": null,
      "id": "1a6dcb8f-a414-4469-9c9c-4b5df38b8461",
      "metadata": {
        "trusted": true
      },
      "outputs": [],
      "source": "response = requests.get(url)"
    },
    {
      "cell_type": "code",
      "execution_count": null,
      "id": "364e6f68-0ef6-494d-844c-bba61502b08e",
      "metadata": {
        "trusted": true
      },
      "outputs": [],
      "source": "response"
    },
    {
      "cell_type": "code",
      "execution_count": null,
      "id": "fabbade2-2399-415a-b4ae-3db644fc9bb0",
      "metadata": {
        "tags": [],
        "trusted": true
      },
      "outputs": [],
      "source": "response.text"
    },
    {
      "cell_type": "markdown",
      "id": "d012282a-8d82-49a9-b675-0b460a777bc2",
      "metadata": {},
      "source": "Actually.... the response is in JSON format"
    },
    {
      "cell_type": "code",
      "execution_count": null,
      "id": "a4dee80d-c691-4452-b659-53a9fcfce193",
      "metadata": {
        "tags": [],
        "trusted": true
      },
      "outputs": [],
      "source": "x = response.json()"
    },
    {
      "cell_type": "code",
      "execution_count": null,
      "id": "cccabb09-b597-4814-89ae-e5b566aaecc5",
      "metadata": {
        "tags": [],
        "trusted": true
      },
      "outputs": [],
      "source": "x"
    },
    {
      "cell_type": "markdown",
      "id": "22642ba6-14a1-4f62-8a1d-2d2393052d04",
      "metadata": {},
      "source": "Navigating this data structure may remind you of experiences navigating the nasty CORGIS lists of nested dictionaries."
    },
    {
      "cell_type": "code",
      "execution_count": null,
      "id": "f93c6ba9-033d-40c1-bcf0-80f127535eaf",
      "metadata": {
        "trusted": true
      },
      "outputs": [],
      "source": "x.keys()"
    },
    {
      "cell_type": "code",
      "execution_count": null,
      "id": "e0043062-4c47-4544-9b7f-82a0a384b55b",
      "metadata": {
        "trusted": true
      },
      "outputs": [],
      "source": "x['results'].keys()"
    },
    {
      "cell_type": "code",
      "execution_count": null,
      "id": "9fe0098b-05a2-4baa-848e-e2b058288e53",
      "metadata": {
        "trusted": true
      },
      "outputs": [],
      "source": "x['results']['books'][0]"
    },
    {
      "cell_type": "code",
      "execution_count": null,
      "id": "78faa24d-c46f-4a0a-928f-2ca0f12b7e0b",
      "metadata": {
        "trusted": true
      },
      "outputs": [],
      "source": "for i in x['results']['books']:\n    print('Author: ' + i['author'] + ', Title: ' + i['title'])"
    },
    {
      "cell_type": "markdown",
      "id": "6d409335-7669-4eec-8202-7769e1125832",
      "metadata": {},
      "source": "### Example 2: Get a review of a book above"
    },
    {
      "cell_type": "code",
      "execution_count": null,
      "id": "16d7b229-ad94-454b-8ba5-a0a320c9a24c",
      "metadata": {
        "trusted": true
      },
      "outputs": [],
      "source": "# Note how we include your key without explicitly typing it into this file\n\nurl = 'https://api.nytimes.com/svc/books/v3/reviews.json?title=GO+TELL+THE+BEES+THAT+I+AM+GONE&api-key=' + nytimes_key.MY_KEY"
    },
    {
      "cell_type": "code",
      "execution_count": null,
      "id": "0e79ad4e-a9f2-4c2b-a719-b851b01704b1",
      "metadata": {
        "trusted": true
      },
      "outputs": [],
      "source": "print(url)"
    },
    {
      "cell_type": "markdown",
      "id": "fd1a7300-ec48-4b5a-8c74-92cc33101083",
      "metadata": {},
      "source": "Use \"requests\" to query the API endpoint"
    },
    {
      "cell_type": "code",
      "execution_count": null,
      "id": "0caab370-6998-439a-a4bd-60a50251173d",
      "metadata": {
        "trusted": true
      },
      "outputs": [],
      "source": "response = requests.get(url)"
    },
    {
      "cell_type": "code",
      "execution_count": null,
      "id": "27160a68-0b2a-40d6-91d3-6e19e5aee898",
      "metadata": {
        "trusted": true
      },
      "outputs": [],
      "source": "response.json()"
    },
    {
      "cell_type": "markdown",
      "id": "7393f143-b827-46ec-ac12-3951fc55090d",
      "metadata": {
        "jupyter": {
          "outputs_hidden": true
        },
        "tags": []
      },
      "source": "No result.  Try again."
    },
    {
      "cell_type": "code",
      "execution_count": null,
      "id": "e96e9116-a276-4b09-8cf9-08e8bef3c80e",
      "metadata": {
        "trusted": true
      },
      "outputs": [],
      "source": "url = 'https://api.nytimes.com/svc/books/v3/reviews.json?title=THE+MIDNIGHT+LIBRARY&api-key=' + nytimes_key.MY_KEY\nresponse = requests.get(url)\nx = response.json()\nx"
    },
    {
      "cell_type": "markdown",
      "id": "ee90f760-c8ed-42c0-8bbd-15fa02d863e9",
      "metadata": {},
      "source": "* It doesn't look like the API allows us to actually retrieve the review itself\n* BUT, we're now fully capable of getting that ourselves with the URL\n* -> Grab the review with requests\n* -> Use BeautifulSoup to help us sort through all the HTML tags\n\n**However**, this is disallowed under the [Terms of Service](https://help.nytimes.com/hc/en-us/articles/115014893428-Terms-of-service).  If you wanted to do this, you should seek written permission from the NYTimes."
    },
    {
      "cell_type": "markdown",
      "id": "6c50d2da-0e6f-4e9c-bafd-019ac65cc31a",
      "metadata": {},
      "source": "## Article search"
    },
    {
      "cell_type": "markdown",
      "id": "0f119ef7-b16a-463e-b424-c77a915d0a8b",
      "metadata": {},
      "source": "The NYTimes has a number of different APIs.  Let's repeat the process with the Article Search."
    },
    {
      "cell_type": "code",
      "execution_count": null,
      "id": "bc16a81b-00c7-4f24-a1b9-9b9a4db1472b",
      "metadata": {
        "trusted": true
      },
      "outputs": [],
      "source": "url = 'https://api.nytimes.com/svc/search/v2/articlesearch.json?q=spotify&api-key=' + nytimes_key.MY_KEY"
    },
    {
      "cell_type": "code",
      "execution_count": null,
      "id": "2229ad61-f608-4fff-b36b-82273b9ade06",
      "metadata": {
        "trusted": true
      },
      "outputs": [],
      "source": "print(url)"
    },
    {
      "cell_type": "code",
      "execution_count": null,
      "id": "8dfc96a2-d5b0-4006-a86d-1e67bfae498f",
      "metadata": {
        "trusted": true
      },
      "outputs": [],
      "source": "response = requests.get(url)"
    },
    {
      "cell_type": "code",
      "execution_count": null,
      "id": "54d0b756-a4bf-4f06-98af-dfb4c1287430",
      "metadata": {
        "trusted": true
      },
      "outputs": [],
      "source": "response"
    },
    {
      "cell_type": "code",
      "execution_count": null,
      "id": "ef931dab-7515-42e5-94eb-ec02bbca7490",
      "metadata": {
        "tags": [],
        "trusted": true
      },
      "outputs": [],
      "source": "response.text"
    },
    {
      "cell_type": "markdown",
      "id": "66b371fa-d9d4-4263-8bd4-d697c42c8c30",
      "metadata": {},
      "source": "Actually.... the response is in JSON format"
    },
    {
      "cell_type": "code",
      "execution_count": null,
      "id": "21fad0f4-9be0-4bf7-9d32-77b9af855634",
      "metadata": {
        "tags": [],
        "trusted": true
      },
      "outputs": [],
      "source": "x = response.json()"
    },
    {
      "cell_type": "code",
      "execution_count": null,
      "id": "f055c9a4-bacb-4f73-ac24-1a7cf4049fa7",
      "metadata": {
        "trusted": true
      },
      "outputs": [],
      "source": "x.keys()"
    },
    {
      "cell_type": "code",
      "execution_count": null,
      "id": "7014155d-7a58-4208-a569-3173fcbe966d",
      "metadata": {
        "tags": [],
        "trusted": true
      },
      "outputs": [],
      "source": "len(x['response']['docs'])"
    },
    {
      "cell_type": "code",
      "execution_count": null,
      "id": "714a83c1-9200-4434-a6a4-98b739fd68d8",
      "metadata": {
        "trusted": true
      },
      "outputs": [],
      "source": "x['response']['docs'][0].keys()"
    },
    {
      "cell_type": "code",
      "execution_count": null,
      "id": "df72630c-d995-447c-8ac9-29e424296cfe",
      "metadata": {
        "trusted": true
      },
      "outputs": [],
      "source": "for i in x['response']['docs']:\n    print(i['headline'])"
    },
    {
      "cell_type": "code",
      "execution_count": null,
      "id": "3bf22981-b2d1-42d7-8a37-c0dcd8937e30",
      "metadata": {
        "trusted": true
      },
      "outputs": [],
      "source": "for i in x['response']['docs']:\n    print(i['headline']['main'])"
    }
  ],
  "metadata": {
    "kernelspec": {
      "display_name": "Python 3 (ipykernel)",
      "language": "python",
      "name": "python3"
    },
    "language_info": {
      "codemirror_mode": {
        "name": "ipython",
        "version": 3
      },
      "file_extension": ".py",
      "mimetype": "text/x-python",
      "name": "python",
      "nbconvert_exporter": "python",
      "pygments_lexer": "ipython3",
      "version": "3.10.8"
    }
  },
  "nbformat": 4,
  "nbformat_minor": 5
}